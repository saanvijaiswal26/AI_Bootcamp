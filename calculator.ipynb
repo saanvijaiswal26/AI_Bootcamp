{
  "nbformat": 4,
  "nbformat_minor": 0,
  "metadata": {
    "colab": {
      "provenance": []
    },
    "kernelspec": {
      "name": "python3",
      "display_name": "Python 3"
    },
    "language_info": {
      "name": "python"
    }
  },
  "cells": [
    {
      "cell_type": "code",
      "execution_count": null,
      "metadata": {
        "colab": {
          "base_uri": "https://localhost:8080/"
        },
        "id": "xqRQ4Pv2qKKa",
        "outputId": "5b6cf301-c12a-4144-9fdf-d3e8695c6028"
      },
      "outputs": [
        {
          "output_type": "stream",
          "name": "stdout",
          "text": [
            "Basic Calculator using Functions\n",
            "Choose operation:\n",
            "1. Addition (+)\n",
            "2. Subtraction (-)\n",
            "3. Multiplication (*)\n",
            "4. Division (/)\n"
          ]
        }
      ],
      "source": [
        "# Function for addition\n",
        "def add(a, b):\n",
        "    return a + b\n",
        "\n",
        "# Function for subtraction\n",
        "def subtract(a, b):\n",
        "    return a - b\n",
        "\n",
        "# Function for multiplication\n",
        "def multiply(a, b):\n",
        "    return a * b\n",
        "\n",
        "# Function for division\n",
        "def divide(a, b):\n",
        "    if b == 0:\n",
        "        return \"Error! Division by zero.\"\n",
        "    return a / b\n",
        "\n",
        "# Main program\n",
        "print(\"Basic Calculator using Functions\")\n",
        "print(\"Choose operation:\")\n",
        "print(\"1. Addition (+)\")\n",
        "print(\"2. Subtraction (-)\")\n",
        "print(\"3. Multiplication (*)\")\n",
        "print(\"4. Division (/)\")\n",
        "\n",
        "# Take input from user\n",
        "choice = input(\"Enter choice (1/2/3/4): \")\n",
        "\n",
        "# Input operands\n",
        "num1 = float(input(\"Enter first number: \"))\n",
        "num2 = float(input(\"Enter second number: \"))\n",
        "\n",
        "# Perform operation based on user's choice\n",
        "if choice == '1':\n",
        "    print(\"Result: \", add(num1, num2))\n",
        "elif choice == '2':\n",
        "    print(\"Result: \", subtract(num1, num2))\n",
        "elif choice == '3':\n",
        "    print(\"Result: \", multiply(num1, num2))\n",
        "elif choice == '4':\n",
        "    print(\"Result: \", divide(num1, num2))\n",
        "else:\n",
        "    print(\"Invalid input! Please select from 1 to 4.\")"
      ]
    }
  ]
}